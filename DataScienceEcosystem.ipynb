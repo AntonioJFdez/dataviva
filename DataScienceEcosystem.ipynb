{
  "metadata": {
    "kernelspec": {
      "name": "python",
      "display_name": "Python (Pyodide)",
      "language": "python"
    },
    "language_info": {
      "codemirror_mode": {
        "name": "python",
        "version": 3
      },
      "file_extension": ".py",
      "mimetype": "text/x-python",
      "name": "python",
      "nbconvert_exporter": "python",
      "pygments_lexer": "ipython3",
      "version": "3.8"
    }
  },
  "nbformat_minor": 5,
  "nbformat": 4,
  "cells": [
    {
      "id": "a963c321-f7f3-4b69-baa4-d03fe6ae8491",
      "cell_type": "markdown",
      "source": "My Data Science Notebook",
      "metadata": {}
    },
    {
      "id": "271ee067-afa0-4485-ae4c-9fbfa7ffc996",
      "cell_type": "markdown",
      "source": "Introduction\nThis notebook explores fundamental concepts and tools in data science, from languages and libraries to practical code examples.",
      "metadata": {}
    },
    {
      "id": "ab324d38-35f8-4998-a953-e94a1d67090b",
      "cell_type": "markdown",
      "source": "Data Science Languages\nPython\nR\nSQL\nJulia\nScala",
      "metadata": {}
    },
    {
      "id": "e4442aa7-408c-406d-86d5-0bcd5c81576d",
      "cell_type": "markdown",
      "source": "Data Science Libraries\nNumPy\nPandas\nMatplotlib\nScikit-learn\nTensorFlow\nPyTorch",
      "metadata": {}
    },
    {
      "id": "972b5570-31f9-44d2-905d-d2fd4cfbe51e",
      "cell_type": "markdown",
      "source": "Tool\t            Description\nJupyter Notebooks\tInteractive environment for code and documentation\nGit\t                Version control system\nSQL\t                Database query language\nTableau\t            Data visualization tool",
      "metadata": {}
    },
    {
      "id": "c2a04c8b-f5a5-4f93-9891-b8c82c7cb284",
      "cell_type": "markdown",
      "source": "Examples of arithmetic expressions\nAddition: 2 + 3 = 5\nSubtraction: 5 - 2 = 3\nMultiplication: 4 * 6 = 24\nDivision: 10 / 2 = 5\nPower: 2 ** 3 = 8",
      "metadata": {}
    },
    {
      "id": "1e4cd965-db9f-4d9b-906e-e7abbe7e962c",
      "cell_type": "code",
      "source": "# Multiplication\nx = 5\ny = 10\nmultiplication_result = x * y\nprint(f\"The result of the multiplication is: {multiplication_result}\")\n\n# Addition\na = 7\nb = 3\naddition_result = a + b\nprint(f\"The result of the addition is: {addition_result}\")",
      "metadata": {
        "trusted": true
      },
      "outputs": [],
      "execution_count": null
    },
    {
      "id": "a5b69849-11da-45e3-9116-7476dde06a08",
      "cell_type": "code",
      "source": "minutes = 120\nhours = minutes / 60\nprint(f\"{minutes} minutes are equivalent to {hours} hours\")",
      "metadata": {
        "trusted": true
      },
      "outputs": [],
      "execution_count": null
    },
    {
      "id": "cbb34524-2990-4cb3-8195-e846ab77e178",
      "cell_type": "markdown",
      "source": "Objectives\nLearn the fundamentals of data science.\nMaster the use of key tools such as Jupyter Notebooks and Git.\nDevelop skills in data processing and analysis.\nCreate effective data visualizations.",
      "metadata": {}
    },
    {
      "id": "9cbeab6c-76f2-4ac9-b877-dbfa1d22fbd8",
      "cell_type": "markdown",
      "source": "Author\nAntonio Jesús Fernández Fernández",
      "metadata": {}
    }
  ]
}